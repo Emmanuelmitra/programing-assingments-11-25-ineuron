{
  "nbformat": 4,
  "nbformat_minor": 0,
  "metadata": {
    "colab": {
      "provenance": []
    },
    "kernelspec": {
      "name": "python3",
      "display_name": "Python 3"
    },
    "language_info": {
      "name": "python"
    }
  },
  "cells": [
    {
      "cell_type": "code",
      "execution_count": 3,
      "metadata": {
        "id": "caRgwJ39XhIQ"
      },
      "outputs": [],
      "source": [
        "# 1\n",
        "def stutter(word):\n",
        "  return word[:2] + \"... \" + word[:2] + \"... \" + word + \"?\"\n",
        "\n",
        "def radians_to_degrees(radians):\n",
        "  return round(radians * 180 / 3.14, 1)\n",
        "\n",
        "def is_curzon(num):\n",
        "  return (2 ** num + 1) % (2 * num + 1) == 0\n",
        "\n",
        "def area_of_hexagon(x):\n",
        "  return 3 * x ** 2 * (3 ** 0.5) / 2\n",
        "\n",
        "def binary(decimal):\n",
        "  binary = \"\"\n",
        "  i = 0\n",
        "  while 2 ** i <= decimal:\n",
        "    i += 1\n",
        "  for j in range(i - 1, -1, -1):\n",
        "    if 2 ** j <= decimal:\n",
        "      binary += \"1\"\n",
        "      decimal -= 2 ** j\n",
        "    else:\n",
        "      binary += \"0\"\n",
        "  return binary\n"
      ]
    },
    {
      "cell_type": "code",
      "source": [
        "print(stutter(\"incredible\"))  # should print \"in... in... incredible?\"\n",
        "print(stutter(\"enthusiastic\"))  # should print \"en... en... enthusiastic?\"\n",
        "print(radians_to_degrees(1))  # should print 57.3\n",
        "print(radians_to_degrees(20))  # should print 1145.9\n",
        "print(is_curzon(5))  # should print True\n",
        "print(is_curzon(10))  # should print False\n",
        "print(is_curzon(14))  # should print True\n",
        "print(area_of_hexagon(1))  # should print 2.6\n",
        "print(area_of_hexagon(2))  # should print 10.4\n",
        "print(binary(1))  # should print \"1\"\n",
        "print(binary(5))  # should print \"101\"\n",
        "print(binary(10))  # should print \"1010\"\n"
      ],
      "metadata": {
        "colab": {
          "base_uri": "https://localhost:8080/"
        },
        "id": "8tdKXrbuXnHx",
        "outputId": "276d2acc-8fa8-4406-a2a7-597ad77b088d"
      },
      "execution_count": 4,
      "outputs": [
        {
          "output_type": "stream",
          "name": "stdout",
          "text": [
            "in... in... incredible?\n",
            "en... en... enthusiastic?\n",
            "57.3\n",
            "1146.5\n",
            "True\n",
            "False\n",
            "True\n",
            "2.598076211353316\n",
            "10.392304845413264\n",
            "1\n",
            "101\n",
            "1010\n"
          ]
        }
      ]
    },
    {
      "cell_type": "code",
      "source": [],
      "metadata": {
        "id": "42ad-502YB_p"
      },
      "execution_count": null,
      "outputs": []
    }
  ]
}