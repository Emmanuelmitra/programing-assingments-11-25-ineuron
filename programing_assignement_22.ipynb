{
  "nbformat": 4,
  "nbformat_minor": 0,
  "metadata": {
    "colab": {
      "provenance": []
    },
    "kernelspec": {
      "name": "python3",
      "display_name": "Python 3"
    },
    "language_info": {
      "name": "python"
    }
  },
  "cells": [
    {
      "cell_type": "code",
      "execution_count": 1,
      "metadata": {
        "id": "TP9GQXw6cpu-"
      },
      "outputs": [],
      "source": [
        "def list_operation(x, y, n):\n",
        "    return [num for num in range(x, y+1) if num % n == 0]\n",
        "\n",
        "def simon_says(list1, list2):\n",
        "    if len(list1) != len(list2):\n",
        "        return False\n",
        "    for i in range(1, len(list1)):\n",
        "        if list1[i] != list2[i-1]:\n",
        "            return False\n",
        "    return True\n",
        "\n",
        "def society_name(names):\n",
        "    return ''.join(sorted([name[0] for name in names]))\n",
        "\n",
        "def is_isogram(string):\n",
        "    return len(set(string.lower())) == len(string)\n",
        "\n",
        "def is_in_order(string):\n",
        "    return string == ''.join(sorted(string))\n"
      ]
    },
    {
      "cell_type": "code",
      "source": [
        "# Test list_operation\n",
        "print(list_operation(1, 10, 3)) # should print [3, 6, 9]\n",
        "print(list_operation(7, 9, 2)) # should print [8]\n",
        "print(list_operation(15, 20, 7)) # should print []\n",
        "\n",
        "# Test simon_says\n",
        "print(simon_says([1, 2], [5, 1])) # should print True\n",
        "print(simon_says([1, 2], [5, 5])) # should print False\n",
        "print(simon_says([1, 2, 3, 4, 5], [0, 1, 2, 3, 4])) # should print True\n",
        "print(simon_says([1, 2, 3, 4, 5], [5, 5, 1, 2, 3])) # should print False\n",
        "\n",
        "# Test society_name\n",
        "print(society_name([\"Adam\", \"Sarah\", \"Malcolm\"])) # should print \"AMS\"\n",
        "print(society_name([\"Harry\", \"Newt\", \"Luna\", \"Cho\"])) # should print \"CHLN\"\n",
        "print(society_name([\"Phoebe\", \"Chandler\", \"Rachel\", \"Ross\", \"Monica\", \"Joey\"]))\n",
        "\n",
        "# Test is_isogram\n",
        "print(is_isogram(\"Algorism\")) # should print True\n",
        "print(is_isogram(\"PasSword\")) # should print False\n",
        "print(is_isogram(\"Consecutive\")) # should print False\n",
        "\n",
        "# Test is_in_order\n",
        "print(is_in_order(\"abc\")) # should print True\n",
        "print(is_in_order(\"edabit\")) # should print False\n",
        "print(is_in_order(\"123\")) # should print True\n",
        "print(is_in_order(\"xyzz\")) # should print True\n"
      ],
      "metadata": {
        "colab": {
          "base_uri": "https://localhost:8080/"
        },
        "id": "cKQzIf53csrs",
        "outputId": "eb794ebd-db59-4490-8277-cae4adb7317c"
      },
      "execution_count": 2,
      "outputs": [
        {
          "output_type": "stream",
          "name": "stdout",
          "text": [
            "[3, 6, 9]\n",
            "[8]\n",
            "[]\n",
            "False\n",
            "False\n",
            "False\n",
            "False\n",
            "AMS\n",
            "CHLN\n",
            "CJMPRR\n",
            "True\n",
            "False\n",
            "False\n",
            "True\n",
            "False\n",
            "True\n",
            "True\n"
          ]
        }
      ]
    },
    {
      "cell_type": "code",
      "source": [],
      "metadata": {
        "id": "iNPT1OPQc0MF"
      },
      "execution_count": null,
      "outputs": []
    }
  ]
}