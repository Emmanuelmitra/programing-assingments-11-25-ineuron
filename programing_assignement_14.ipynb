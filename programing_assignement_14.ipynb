{
  "nbformat": 4,
  "nbformat_minor": 0,
  "metadata": {
    "colab": {
      "provenance": []
    },
    "kernelspec": {
      "name": "python3",
      "display_name": "Python 3"
    },
    "language_info": {
      "name": "python"
    }
  },
  "cells": [
    {
      "cell_type": "code",
      "execution_count": 8,
      "metadata": {
        "colab": {
          "base_uri": "https://localhost:8080/"
        },
        "id": "a7eOOMNMVMBy",
        "outputId": "4f9366de-980e-4cbc-cce9-5b44c7fe0b02"
      },
      "outputs": [
        {
          "output_type": "stream",
          "name": "stdout",
          "text": [
            "0\n",
            "7\n",
            "14\n",
            "21\n",
            "28\n",
            "35\n",
            "42\n",
            "49\n",
            "56\n",
            "63\n",
            "70\n"
          ]
        }
      ],
      "source": [
        "# 1\n",
        "class DivisibleBySeven:\n",
        "    def __init__(self, n):\n",
        "        self.n = n\n",
        "    \n",
        "    def divisible_by_seven(self):\n",
        "        for i in range(self.n+1):\n",
        "            if i % 7 == 0:\n",
        "                yield i\n",
        "    \n",
        "    def __iter__(self):\n",
        "        return self.divisible_by_seven()\n",
        "\n",
        "# Example usage\n",
        "for num in DivisibleBySeven(70):\n",
        "    print(num)\n",
        "\n",
        "\n"
      ]
    },
    {
      "cell_type": "code",
      "source": [
        "# 2\n",
        "def compute_word_frequency(input_string):\n",
        "    # Split the input string into words\n",
        "    words = input_string.split()\n",
        "    \n",
        "    # Create an empty dictionary\n",
        "    word_count = {}\n",
        "    \n",
        "    # Iterate over the words and update their frequency in the dictionary\n",
        "    for word in words:\n",
        "        if word in word_count:\n",
        "            word_count[word] += 1\n",
        "        else:\n",
        "            word_count[word] = 1\n",
        "    \n",
        "    # Sort the dictionary alphanumerically by key\n",
        "    sorted_word_count = sorted(word_count.items())\n",
        "    \n",
        "    # Print the frequency of each word\n",
        "    for word, count in sorted_word_count:\n",
        "        print(f\"{word}: {count}\")\n",
        "\n",
        "# Example usage\n",
        "compute_word_frequency(\"New to Python or choosing between Python 2 and Python 3? Read Python 2 or Python 3.\")\n"
      ],
      "metadata": {
        "colab": {
          "base_uri": "https://localhost:8080/"
        },
        "id": "z4uXkiffVVxp",
        "outputId": "a7d064d6-2572-443b-c405-b5fabb0d9ba1"
      },
      "execution_count": 2,
      "outputs": [
        {
          "output_type": "stream",
          "name": "stdout",
          "text": [
            "2: 2\n",
            "3.: 1\n",
            "3?: 1\n",
            "New: 1\n",
            "Python: 5\n",
            "Read: 1\n",
            "and: 1\n",
            "between: 1\n",
            "choosing: 1\n",
            "or: 2\n",
            "to: 1\n"
          ]
        }
      ]
    },
    {
      "cell_type": "code",
      "source": [
        "# 3\n",
        "class Person:\n",
        "    def get_gender(self):\n",
        "        raise NotImplementedError\n",
        "\n",
        "class Male(Person):\n",
        "    def get_gender(self):\n",
        "        return \"Male\"\n",
        "\n",
        "class Female(Person):\n",
        "    def get_gender(self):\n",
        "        return \"Female\"\n",
        "\n",
        "# Example usage\n",
        "person1 = Male()\n",
        "print(person1.get_gender())\n",
        "person2 = Female()\n",
        "print(person2.get_gender())\n"
      ],
      "metadata": {
        "colab": {
          "base_uri": "https://localhost:8080/"
        },
        "id": "m2Jsj-1_VWML",
        "outputId": "acc5b80c-b919-4a08-83af-8c712824ab95"
      },
      "execution_count": 3,
      "outputs": [
        {
          "output_type": "stream",
          "name": "stdout",
          "text": [
            "Male\n",
            "Female\n"
          ]
        }
      ]
    },
    {
      "cell_type": "code",
      "source": [
        "# 4\n",
        "subjects = [\"I\", \"You\"]\n",
        "verbs = [\"Play\", \"Love\"]\n",
        "objects = [\"Hockey\", \"Football\"]\n",
        "\n",
        "for subject in subjects:\n",
        "    for verb in verbs:\n",
        "        for obj in objects:\n",
        "            print(f\"{subject} {verb} {obj}.\")\n"
      ],
      "metadata": {
        "colab": {
          "base_uri": "https://localhost:8080/"
        },
        "id": "hChoy4z3VY4O",
        "outputId": "998f3e5f-1dcf-4871-983c-d1d43de5a320"
      },
      "execution_count": 4,
      "outputs": [
        {
          "output_type": "stream",
          "name": "stdout",
          "text": [
            "I Play Hockey.\n",
            "I Play Football.\n",
            "I Love Hockey.\n",
            "I Love Football.\n",
            "You Play Hockey.\n",
            "You Play Football.\n",
            "You Love Hockey.\n",
            "You Love Football.\n"
          ]
        }
      ]
    },
    {
      "cell_type": "code",
      "source": [
        "# 5\n",
        "import zlib\n",
        "\n",
        "def compress(input_string):\n",
        "    # Compress the input string\n",
        "    compressed_string = zlib.compress(input_string.encode())\n",
        "    # Return the compressed string as a hexadecimal string\n",
        "    return compressed_string.hex()\n",
        "\n",
        "def decompress(compressed_string):\n",
        "    # Decode the hexadecimal string and decompress it\n",
        "    decompressed_string = zlib.decompress(bytes.fromhex(compressed_string)).decode()\n",
        "    return decompressed_string\n",
        "\n",
        "# Example usage\n",
        "string_to_compress = \"hello world!hello world!hello world!hello world!\"\n",
        "compressed_string = compress(string_to_compress)\n",
        "print(compressed_string)\n",
        "decompressed_string = decompress(compressed_string)\n",
        "print(decompressed_string)"
      ],
      "metadata": {
        "colab": {
          "base_uri": "https://localhost:8080/"
        },
        "id": "jGjJKcjFVasQ",
        "outputId": "abe6d54a-eccb-4b14-9a98-c4e4091e47d9"
      },
      "execution_count": 7,
      "outputs": [
        {
          "output_type": "stream",
          "name": "stdout",
          "text": [
            "789ccb48cdc9c95728cf2fca4951cc20820d00bd5b11f5\n",
            "hello world!hello world!hello world!hello world!\n"
          ]
        }
      ]
    },
    {
      "cell_type": "code",
      "source": [],
      "metadata": {
        "id": "IAyUyDzDVdQk"
      },
      "execution_count": null,
      "outputs": []
    }
  ]
}