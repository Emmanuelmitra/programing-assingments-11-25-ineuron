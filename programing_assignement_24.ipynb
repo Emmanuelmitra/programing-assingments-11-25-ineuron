{
  "nbformat": 4,
  "nbformat_minor": 0,
  "metadata": {
    "colab": {
      "provenance": []
    },
    "kernelspec": {
      "name": "python3",
      "display_name": "Python 3"
    },
    "language_info": {
      "name": "python"
    }
  },
  "cells": [
    {
      "cell_type": "code",
      "execution_count": 1,
      "metadata": {
        "colab": {
          "base_uri": "https://localhost:8080/"
        },
        "id": "-sorLcmad5zN",
        "outputId": "625bf70b-de42-4124-8e17-a472414ae62a"
      },
      "outputs": [
        {
          "output_type": "stream",
          "name": "stdout",
          "text": [
            "[1, 2, 3, 40]\n",
            "[1, 2, 3]\n",
            "[1, 2, 3, 40, 5, 6, 7, 80, 9, 10, 11, 120, 13, 14, 15, 160, 17, 18, 19, 200, 21, 22, 23, 240, 25]\n"
          ]
        }
      ],
      "source": [
        "# 1\n",
        "def amplify(num):\n",
        "  return [i*10 if i % 4 == 0 else i for i in range(1, num+1)]\n",
        "\n",
        "print(amplify(4))  # [1, 2, 3, 40]\n",
        "print(amplify(3))  # [1, 2, 3]\n",
        "print(amplify(25)) # [1, 2, 3, 40, 5, 6, 7, 80, 9, 10, 11, 120, 13, 14, 15, 160, 17, 18, 19, 200, 21, 22, 23, 240, 25]\n"
      ]
    },
    {
      "cell_type": "code",
      "source": [
        "# 2\n",
        "def unique(lst):\n",
        "  for num in lst:\n",
        "    if lst.count(num) == 1:\n",
        "      return num\n",
        "\n",
        "print(unique([3, 3, 3, 7, 3, 3]))  # 7\n",
        "print(unique([0, 0, 0.77, 0, 0]))  # 0.77\n",
        "print(unique([0, 1, 1, 1, 1, 1, 1, 1]))  # 0\n"
      ],
      "metadata": {
        "colab": {
          "base_uri": "https://localhost:8080/"
        },
        "id": "DDYJChh0d9U7",
        "outputId": "ad185adf-5f6f-4df8-e355-922428b5fbcd"
      },
      "execution_count": 2,
      "outputs": [
        {
          "output_type": "stream",
          "name": "stdout",
          "text": [
            "7\n",
            "0.77\n",
            "0\n"
          ]
        }
      ]
    },
    {
      "cell_type": "code",
      "source": [
        "# 3\n",
        "import math\n",
        "\n",
        "class Circle:\n",
        "  def __init__(self, radius):\n",
        "    self.radius = radius\n",
        "\n",
        "  def getArea(self):\n",
        "    return math.ceil(math.pi * self.radius**2)\n",
        "\n",
        "  def getPerimeter(self):\n",
        "    return math.ceil(2 * math.pi * self.radius)\n",
        "\n",
        "circy = Circle(11)\n",
        "print(circy.getArea())  # 380\n",
        "circy = Circle(4.44)\n",
        "print(circy.getPerimeter())  # 28\n"
      ],
      "metadata": {
        "colab": {
          "base_uri": "https://localhost:8080/"
        },
        "id": "UXW1oojueBwW",
        "outputId": "4393638b-e9ab-4c7c-e7a2-9a9f5218d863"
      },
      "execution_count": 3,
      "outputs": [
        {
          "output_type": "stream",
          "name": "stdout",
          "text": [
            "381\n",
            "28\n"
          ]
        }
      ]
    },
    {
      "cell_type": "code",
      "source": [
        "# 4\n",
        "def sort_by_length(lst):\n",
        "  return sorted(lst, key=lambda x: len(x))\n",
        "\n",
        "print(sort_by_length([\"Google\", \"Apple\", \"Microsoft\"]))  # ['Apple', 'Google', 'Microsoft']\n",
        "print(sort_by_length([\"Leonardo\", \"Michelangelo\", \"Raphael\", \"Donatello\"]))  # ['Raphael', 'Leonardo', 'Donatello', 'Michelangelo']\n",
        "print(sort_by_length([\"Turing\", \"Einstein\", \"Jung\"]))  # ['Jung', 'Turing', 'Einstein']\n"
      ],
      "metadata": {
        "colab": {
          "base_uri": "https://localhost:8080/"
        },
        "id": "L8h8FOhqeDwC",
        "outputId": "73e5b409-5741-4751-c576-ed92b15d7e80"
      },
      "execution_count": 4,
      "outputs": [
        {
          "output_type": "stream",
          "name": "stdout",
          "text": [
            "['Apple', 'Google', 'Microsoft']\n",
            "['Raphael', 'Leonardo', 'Donatello', 'Michelangelo']\n",
            "['Jung', 'Turing', 'Einstein']\n"
          ]
        }
      ]
    },
    {
      "cell_type": "code",
      "source": [
        "\n",
        "# 5\n",
        "def mean(num):\n",
        "    return sum([int(ch) for ch in str(num)]) // len(str(num))\n",
        "\n",
        "print(mean(42)) # 3\n",
        "print(mean(12345)) # 3\n",
        "print(mean(666)) # 6\n"
      ],
      "metadata": {
        "colab": {
          "base_uri": "https://localhost:8080/"
        },
        "id": "tXWeixP1eFzs",
        "outputId": "e3999795-d356-4b2f-d3e7-3d7bacd5765f"
      },
      "execution_count": 6,
      "outputs": [
        {
          "output_type": "stream",
          "name": "stdout",
          "text": [
            "3\n",
            "3\n",
            "6\n"
          ]
        }
      ]
    },
    {
      "cell_type": "code",
      "source": [],
      "metadata": {
        "id": "ba47KDU8evH3"
      },
      "execution_count": null,
      "outputs": []
    }
  ]
}