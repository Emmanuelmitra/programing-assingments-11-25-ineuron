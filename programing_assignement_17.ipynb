{
  "nbformat": 4,
  "nbformat_minor": 0,
  "metadata": {
    "colab": {
      "provenance": []
    },
    "kernelspec": {
      "name": "python3",
      "display_name": "Python 3"
    },
    "language_info": {
      "name": "python"
    }
  },
  "cells": [
    {
      "cell_type": "code",
      "execution_count": 6,
      "metadata": {
        "colab": {
          "base_uri": "https://localhost:8080/"
        },
        "id": "jGXxXxFZYfhW",
        "outputId": "ffd7db8f-56e0-496b-f323-400ce871c259"
      },
      "outputs": [
        {
          "output_type": "stream",
          "name": "stdout",
          "text": [
            "0\n",
            "30\n",
            "18\n"
          ]
        }
      ],
      "source": [
        "# 1\n",
        "def evenly_divisible(a, b, c):\n",
        "  sum = 0\n",
        "  for i in range(a, b+1):\n",
        "    if i % c == 0:\n",
        "      sum += i\n",
        "  return sum\n",
        "\n",
        "# Testing for function 1\n",
        "print(evenly_divisible(1, 10, 20)) # should return 0\n",
        "print(evenly_divisible(1, 10, 2)) # should return 30\n",
        "print(evenly_divisible(1, 10, 3)) # should return 18\n"
      ]
    },
    {
      "cell_type": "code",
      "source": [
        "# 2\n",
        "def correct_signs(inequality):\n",
        "  inequality = inequality.split(\" \")\n",
        "  for i in range(len(inequality)-2):\n",
        "    if inequality[i] == \">\" and not inequality[i+1] > inequality[i+2]:\n",
        "      return False\n",
        "    elif inequality[i] == \"<\" and not inequality[i+1] < inequality[i+2]:\n",
        "      return False\n",
        "  return True\n",
        "\n",
        "\n",
        "# Testing for function 2\n",
        "print(correct_signs(\"3 < 7 < 11\")) # should return True\n",
        "print(correct_signs(\"13 > 44 > 33 > 1\")) # should return False\n",
        "print(correct_signs(\"1 < 2 < 6 < 9 > 3\")) # should return True"
      ],
      "metadata": {
        "colab": {
          "base_uri": "https://localhost:8080/"
        },
        "id": "U3YOtjGlYkL5",
        "outputId": "5fd07e93-9848-41de-e26a-ad7b145bdc08"
      },
      "execution_count": 7,
      "outputs": [
        {
          "output_type": "stream",
          "name": "stdout",
          "text": [
            "True\n",
            "False\n",
            "True\n"
          ]
        }
      ]
    },
    {
      "cell_type": "code",
      "source": [
        "# 3\n",
        "def replace_vowels(word, ch):\n",
        "  vowels = \"aeiouAEIOU\"\n",
        "  result = \"\"\n",
        "  for i in word:\n",
        "    if i in vowels:\n",
        "      result += ch\n",
        "    else:\n",
        "      result += i\n",
        "  return result\n",
        "\n",
        "# Testing for function 3\n",
        "print(replace_vowels(\"the aardvark\", \"#\")) # should return \"th# ##rdv#rk\"\n",
        "print(replace_vowels(\"minnie mouse\", \"?\")) # should return \"m?nn?? m??s?\"\n",
        "print(replace_vowels(\"shakespeare\", \"*\")) # should return \"sh*k*sp**r*\""
      ],
      "metadata": {
        "colab": {
          "base_uri": "https://localhost:8080/"
        },
        "id": "nGF6Utc2YmxC",
        "outputId": "ed3b65cc-192e-4c84-e3c4-a8a265d8581a"
      },
      "execution_count": 8,
      "outputs": [
        {
          "output_type": "stream",
          "name": "stdout",
          "text": [
            "th# ##rdv#rk\n",
            "m?nn?? m??s?\n",
            "sh*k*sp**r*\n"
          ]
        }
      ]
    },
    {
      "cell_type": "code",
      "source": [
        "# 4\n",
        "def factorial(n):\n",
        "  if n == 0:\n",
        "    return 1\n",
        "  else:\n",
        "    return n * factorial(n-1)\n",
        "\n",
        "\n",
        "# Testing for function 4\n",
        "print(factorial(5)) # should return 120\n",
        "print(factorial(3)) # should return 6\n",
        "print(factorial(1)) # should return 1\n",
        "print(factorial(0)) # should return 1"
      ],
      "metadata": {
        "colab": {
          "base_uri": "https://localhost:8080/"
        },
        "id": "Tf6Kwl-xYqYo",
        "outputId": "354ed94a-cc9a-47e9-db4d-f4ba0245b9f6"
      },
      "execution_count": 9,
      "outputs": [
        {
          "output_type": "stream",
          "name": "stdout",
          "text": [
            "120\n",
            "6\n",
            "1\n",
            "1\n"
          ]
        }
      ]
    },
    {
      "cell_type": "code",
      "source": [
        "# 5\n",
        "def hamming_distance(str1, str2):\n",
        "  count = 0\n",
        "  for i in range(len(str1)):\n",
        "    if str1[i] != str2[i]:\n",
        "      count += 1\n",
        "  return count\n",
        "\n",
        "\n",
        "# Testing for function 5\n",
        "print(hamming_distance(\"abcde\", \"bcdef\")) # should return 5\n",
        "print(hamming_distance(\"abcde\", \"abcde\")) # should return 0\n",
        "print(hamming_distance(\"strong\", \"strung\")) # should return 1"
      ],
      "metadata": {
        "colab": {
          "base_uri": "https://localhost:8080/"
        },
        "id": "BdqTqjmsYt9n",
        "outputId": "a9b59254-bb1b-49bf-fd9f-1421aaf6c3c6"
      },
      "execution_count": 10,
      "outputs": [
        {
          "output_type": "stream",
          "name": "stdout",
          "text": [
            "5\n",
            "0\n",
            "1\n"
          ]
        }
      ]
    },
    {
      "cell_type": "code",
      "source": [],
      "metadata": {
        "id": "UF0zOu-7YwSL"
      },
      "execution_count": null,
      "outputs": []
    }
  ]
}