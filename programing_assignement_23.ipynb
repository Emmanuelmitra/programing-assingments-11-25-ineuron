{
  "nbformat": 4,
  "nbformat_minor": 0,
  "metadata": {
    "colab": {
      "provenance": []
    },
    "kernelspec": {
      "name": "python3",
      "display_name": "Python 3"
    },
    "language_info": {
      "name": "python"
    }
  },
  "cells": [
    {
      "cell_type": "code",
      "execution_count": 1,
      "metadata": {
        "colab": {
          "base_uri": "https://localhost:8080/"
        },
        "id": "xYw_dATkdKpk",
        "outputId": "eab814da-f699-4dd4-b4df-f239b0e845fe"
      },
      "outputs": [
        {
          "output_type": "stream",
          "name": "stdout",
          "text": [
            "True\n",
            "False\n",
            "True\n",
            "False\n",
            "True\n"
          ]
        }
      ],
      "source": [
        "# 1\n",
        "def is_symmetrical(num):\n",
        "    return str(num) == str(num)[::-1]\n",
        "\n",
        "print(is_symmetrical(7227)) # True\n",
        "print(is_symmetrical(12567)) # False\n",
        "print(is_symmetrical(44444444)) # True\n",
        "print(is_symmetrical(9939)) # False\n",
        "print(is_symmetrical(1112111)) # True\n"
      ]
    },
    {
      "cell_type": "code",
      "source": [
        "# 2\n",
        "def multiply_nums(nums_str):\n",
        "    nums = [int(x) for x in nums_str.split(\", \")]\n",
        "    result = 1\n",
        "    for num in nums:\n",
        "        result *= num\n",
        "    return result\n",
        "\n",
        "print(multiply_nums(\"2, 3\")) # 6\n",
        "print(multiply_nums(\"1, 2, 3, 4\")) # 24\n",
        "print(multiply_nums(\"54, 75, 453, 0\")) # 0\n",
        "print(multiply_nums(\"10, -2\")) # -20\n"
      ],
      "metadata": {
        "colab": {
          "base_uri": "https://localhost:8080/"
        },
        "id": "sQOPc6sQdPWh",
        "outputId": "21ce125f-6240-42b3-fa6e-88a6b7f4b7f5"
      },
      "execution_count": 2,
      "outputs": [
        {
          "output_type": "stream",
          "name": "stdout",
          "text": [
            "6\n",
            "24\n",
            "0\n",
            "-20\n"
          ]
        }
      ]
    },
    {
      "cell_type": "code",
      "source": [
        "# 3\n",
        "def square_digits(num):\n",
        "    result = \"\"\n",
        "    for ch in str(num):\n",
        "        result += str(int(ch) ** 2)\n",
        "    return int(result)\n",
        "\n",
        "print(square_digits(9119)) # 811181\n",
        "print(square_digits(2483)) # 416649\n",
        "print(square_digits(3212)) # 9414\n"
      ],
      "metadata": {
        "colab": {
          "base_uri": "https://localhost:8080/"
        },
        "id": "kyf3rap2dRUZ",
        "outputId": "dc7a9cce-91f0-49ac-8669-57c9f6c218b5"
      },
      "execution_count": 3,
      "outputs": [
        {
          "output_type": "stream",
          "name": "stdout",
          "text": [
            "811181\n",
            "416649\n",
            "9414\n"
          ]
        }
      ]
    },
    {
      "cell_type": "code",
      "source": [
        "# 4\n",
        "def setify(lst):\n",
        "    return sorted(list(set(lst)))\n",
        "\n",
        "print(setify([1, 3, 3, 5, 5])) # [1, 3, 5]\n",
        "print(setify([4, 4, 4, 4])) # [4]\n",
        "print(setify([5, 7, 8, 9, 10, 15])) # [5, 7, 8, 9, 10, 15]\n",
        "print(setify([3, 3, 3, 2, 1])) # [1, 2, 3]\n"
      ],
      "metadata": {
        "colab": {
          "base_uri": "https://localhost:8080/"
        },
        "id": "Fnl8v3UNdTAa",
        "outputId": "6a5a03f4-da61-45a9-bfcf-5e3b63b4fc6e"
      },
      "execution_count": 4,
      "outputs": [
        {
          "output_type": "stream",
          "name": "stdout",
          "text": [
            "[1, 3, 5]\n",
            "[4]\n",
            "[5, 7, 8, 9, 10, 15]\n",
            "[1, 2, 3]\n"
          ]
        }
      ]
    },
    {
      "cell_type": "code",
      "source": [
        "# 5\n",
        "def mean(num):\n",
        "    return sum([int(ch) for ch in str(num)]) // len(str(num))\n",
        "\n",
        "print(mean(42)) # 3\n",
        "print(mean(12345)) # 3\n",
        "print(mean(666)) # 6\n"
      ],
      "metadata": {
        "colab": {
          "base_uri": "https://localhost:8080/"
        },
        "id": "wRWNW4XgdYmS",
        "outputId": "54fb98b8-7665-48f2-872b-cecec30e772e"
      },
      "execution_count": 5,
      "outputs": [
        {
          "output_type": "stream",
          "name": "stdout",
          "text": [
            "3\n",
            "3\n",
            "6\n"
          ]
        }
      ]
    },
    {
      "cell_type": "code",
      "source": [],
      "metadata": {
        "id": "ntN3y6Cmdbuw"
      },
      "execution_count": null,
      "outputs": []
    }
  ]
}