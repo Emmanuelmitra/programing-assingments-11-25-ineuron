{
  "nbformat": 4,
  "nbformat_minor": 0,
  "metadata": {
    "colab": {
      "provenance": []
    },
    "kernelspec": {
      "name": "python3",
      "display_name": "Python 3"
    },
    "language_info": {
      "name": "python"
    }
  },
  "cells": [
    {
      "cell_type": "code",
      "execution_count": 1,
      "metadata": {
        "colab": {
          "base_uri": "https://localhost:8080/"
        },
        "id": "_HZSZOG6bq7D",
        "outputId": "2e663655-bf36-4aaa-c835-6190716708e7"
      },
      "outputs": [
        {
          "output_type": "stream",
          "name": "stdout",
          "text": [
            "[6, 7, 8, 9, 1]\n",
            "[6, 3, 23, 17, 10]\n",
            "[10, 20, 42, 6]\n",
            "No list has been selected\n"
          ]
        }
      ],
      "source": [
        "# 1\n",
        "def next_in_line(lst, num):\n",
        "    if len(lst) == 0:\n",
        "        return \"No list has been selected\"\n",
        "    else:\n",
        "        lst.append(num)\n",
        "        lst.pop(0)\n",
        "        return lst\n",
        "\n",
        "print(next_in_line([5, 6, 7, 8, 9], 1))\n",
        "print(next_in_line([7, 6, 3, 23, 17], 10))\n",
        "print(next_in_line([1, 10, 20, 42 ], 6))\n",
        "print(next_in_line([], 6))\n"
      ]
    },
    {
      "cell_type": "code",
      "source": [
        "# 2\n",
        "def get_budgets(people):\n",
        "    budget_sum = 0\n",
        "    for person in people:\n",
        "        budget_sum += person[\"budget\"]\n",
        "    return budget_sum\n",
        "\n",
        "print(get_budgets([\n",
        "{\"name\": \"John\", \"age\": 21, \"budget\": 23000 },\n",
        "{\"name\": \"Steve\", \"age\": 32, \"budget\": 40000 },\n",
        "{\"name\": \"Martin\", \"age\": 16, \"budget\": 2700 }\n",
        "]))\n",
        "print(get_budgets([\n",
        "{\"name\": \"John\", \"age\": 21, \"budget\": 29000 },\n",
        "{\"name\": \"Steve\", \"age\": 32, \"budget\": 32000 },\n",
        "{\"name\": \"Martin\", \"age\": 16, \"budget\": 1600 }\n",
        "]))\n"
      ],
      "metadata": {
        "colab": {
          "base_uri": "https://localhost:8080/"
        },
        "id": "5Pi7cE1HbvJL",
        "outputId": "1612cbf1-dcda-4ea4-fc04-03ecd02d855f"
      },
      "execution_count": 2,
      "outputs": [
        {
          "output_type": "stream",
          "name": "stdout",
          "text": [
            "65700\n",
            "62600\n"
          ]
        }
      ]
    },
    {
      "cell_type": "code",
      "source": [
        "# 3\n",
        "def alphabet_soup(txt):\n",
        "    txt = list(txt)\n",
        "    txt.sort()\n",
        "    return \"\".join(txt)\n",
        "\n",
        "print(alphabet_soup(\"hello\"))\n",
        "print(alphabet_soup(\"edabit\"))\n",
        "print(alphabet_soup(\"hacker\"))\n",
        "print(alphabet_soup(\"geek\"))\n",
        "print(alphabet_soup(\"javascript\"))\n"
      ],
      "metadata": {
        "colab": {
          "base_uri": "https://localhost:8080/"
        },
        "id": "vticbOBdbwkw",
        "outputId": "131984a9-901d-46eb-dcc1-bedb12c54302"
      },
      "execution_count": 4,
      "outputs": [
        {
          "output_type": "stream",
          "name": "stdout",
          "text": [
            "ehllo\n",
            "abdeit\n",
            "acehkr\n",
            "eegk\n",
            "aacijprstv\n"
          ]
        }
      ]
    },
    {
      "cell_type": "code",
      "source": [
        "# 4\n",
        "def compound_interest(p, t, r, n):\n",
        "    value = p * (1 + r / n) ** (n * t)\n",
        "    return round(value, 2)\n",
        "\n",
        "print(compound_interest(10000, 10, 0.06, 12))\n",
        "print(compound_interest(100, 1, 0.05, 1))\n",
        "print(compound_interest(3500, 15, 0.1, 4))\n",
        "print(compound_interest(100000, 20, 0.15, 365))\n"
      ],
      "metadata": {
        "colab": {
          "base_uri": "https://localhost:8080/"
        },
        "id": "vgIWEomRb1ay",
        "outputId": "8173aca1-524e-402c-812b-0d416c8f93d3"
      },
      "execution_count": 5,
      "outputs": [
        {
          "output_type": "stream",
          "name": "stdout",
          "text": [
            "18193.97\n",
            "105.0\n",
            "15399.26\n",
            "2007316.26\n"
          ]
        }
      ]
    },
    {
      "cell_type": "code",
      "source": [
        "# 5\n",
        "def return_only_integer(lst):\n",
        "    integers = []\n",
        "    for element in lst:\n",
        "        if isinstance(element, int):\n",
        "            integers.append(element)\n",
        "    return integers\n",
        "\n",
        "print(return_only_integer([9, 2, \"space\", \"car\", \"lion\", 16]))\n",
        "print(return_only_integer([\"hello\", 81, \"basketball\", 123, \"fox\"]))\n",
        "print(return_only_integer([10, \"hockey\", \"juice\", 4.5, \"soccer\", 6]))\n",
        "print(return_only_integer([\"hello\", \"world\", 29]))\n"
      ],
      "metadata": {
        "colab": {
          "base_uri": "https://localhost:8080/"
        },
        "id": "p6VRtg5Qb_Zt",
        "outputId": "fe2d89f9-846d-4001-ed2d-0ac291345ac6"
      },
      "execution_count": 6,
      "outputs": [
        {
          "output_type": "stream",
          "name": "stdout",
          "text": [
            "[9, 2, 16]\n",
            "[81, 123]\n",
            "[10, 6]\n",
            "[29]\n"
          ]
        }
      ]
    },
    {
      "cell_type": "code",
      "source": [],
      "metadata": {
        "id": "4bzZvwU5cIe0"
      },
      "execution_count": null,
      "outputs": []
    }
  ]
}