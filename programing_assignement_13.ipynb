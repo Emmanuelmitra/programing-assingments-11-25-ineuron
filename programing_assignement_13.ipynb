{
  "nbformat": 4,
  "nbformat_minor": 0,
  "metadata": {
    "colab": {
      "provenance": []
    },
    "kernelspec": {
      "name": "python3",
      "display_name": "Python 3"
    },
    "language_info": {
      "name": "python"
    }
  },
  "cells": [
    {
      "cell_type": "code",
      "execution_count": 3,
      "metadata": {
        "colab": {
          "base_uri": "https://localhost:8080/"
        },
        "id": "PXuOGpKNTpsa",
        "outputId": "afd24d1a-cd9b-4eab-ebfe-e5a4414a206f"
      },
      "outputs": [
        {
          "output_type": "stream",
          "name": "stdout",
          "text": [
            "[18, 22, 24]\n"
          ]
        }
      ],
      "source": [
        "# Question 1:\n",
        "import math\n",
        "\n",
        "def calc_value(d):\n",
        "  c = 50\n",
        "  h = 30\n",
        "  return round(math.sqrt((2 * c * d) / h))\n",
        "\n",
        "d_values = [100, 150, 180]\n",
        "results = []\n",
        "for d in d_values:\n",
        "  result = calc_value(d)\n",
        "  results.append(result)\n",
        "\n",
        "print(results)\n",
        "Output: [18, 22, 24]\n",
        "\n"
      ]
    },
    {
      "cell_type": "code",
      "source": [
        "# Question 2:\n",
        "def generate_2d_array(x, y):\n",
        "  array = []\n",
        "  for i in range(x):\n",
        "    row = []\n",
        "    for j in range(y):\n",
        "      row.append(i * j)\n",
        "    array.append(row)\n",
        "  return array\n",
        "\n",
        "x = 3\n",
        "y = 5\n",
        "array = generate_2d_array(x, y)\n",
        "print(array)\n",
        "# Output: [[0, 0, 0, 0, 0], [0, 1, 2, 3, 4], [0, 2, 4, 6, 8]]\n",
        "\n"
      ],
      "metadata": {
        "colab": {
          "base_uri": "https://localhost:8080/"
        },
        "id": "HcoxLkXTT_aZ",
        "outputId": "1c3a5c4d-9444-4e53-e155-01e8f179f2f6"
      },
      "execution_count": 5,
      "outputs": [
        {
          "output_type": "stream",
          "name": "stdout",
          "text": [
            "[[0, 0, 0, 0, 0], [0, 1, 2, 3, 4], [0, 2, 4, 6, 8]]\n"
          ]
        }
      ]
    },
    {
      "cell_type": "code",
      "source": [
        "# Question 3:\n",
        "def sort_words(words):\n",
        "  return sorted(words)\n",
        "\n",
        "words = ['without', 'hello', 'bag', 'world']\n",
        "sorted_words = sort_words(words)\n",
        "print(sorted_words)\n",
        "# Output: ['bag', 'hello', 'without', 'world']\n",
        "\n"
      ],
      "metadata": {
        "colab": {
          "base_uri": "https://localhost:8080/"
        },
        "id": "mu432p-1UBve",
        "outputId": "583831a3-4c95-4387-f7fa-3cd98a59860f"
      },
      "execution_count": 6,
      "outputs": [
        {
          "output_type": "stream",
          "name": "stdout",
          "text": [
            "['bag', 'hello', 'without', 'world']\n"
          ]
        }
      ]
    },
    {
      "cell_type": "code",
      "source": [
        "# Question 4:\n",
        "def remove_duplicates_and_sort(sentence):\n",
        "  words = sentence.split()\n",
        "  unique_words = list(set(words))\n",
        "  return sorted(unique_words)\n",
        "\n",
        "sentence = 'hello world and practice makes perfect and hello world again'\n",
        "unique_sorted_words = remove_duplicates_and_sort(sentence)\n",
        "print(unique_sorted_words)\n",
        "# Output: ['again', 'and', 'hello', 'makes', 'perfect', 'practice', 'world']\n",
        "\n"
      ],
      "metadata": {
        "colab": {
          "base_uri": "https://localhost:8080/"
        },
        "id": "z27XX_QuUFV-",
        "outputId": "84666ce8-faf2-49bf-99c6-5d8f78f66b6e"
      },
      "execution_count": 7,
      "outputs": [
        {
          "output_type": "stream",
          "name": "stdout",
          "text": [
            "['again', 'and', 'hello', 'makes', 'perfect', 'practice', 'world']\n"
          ]
        }
      ]
    },
    {
      "cell_type": "code",
      "source": [
        "# Question 5:\n",
        "def count_letters_and_digits(sentence):\n",
        "  letters = 0\n",
        "  digits = 0\n",
        "  for char in sentence:\n",
        "    if char.isalpha():\n",
        "      letters += 1\n",
        "    elif char.isdigit():\n",
        "      digits += 1\n",
        "  return {'LETTERS': letters, 'DIGITS': digits}\n",
        "\n",
        "sentence = 'hello world! 123'\n",
        "counts = count_letters_and_digits(sentence)\n",
        "print(f'LETTERS {counts[\"LETTERS\"]}')\n",
        "print(f'DIGITS {counts[\"DIGITS\"]}')\n"
      ],
      "metadata": {
        "colab": {
          "base_uri": "https://localhost:8080/"
        },
        "id": "DWIAjrTyUG7R",
        "outputId": "d1dd1215-5fa8-40c2-e15a-29cd58cd1937"
      },
      "execution_count": 9,
      "outputs": [
        {
          "output_type": "stream",
          "name": "stdout",
          "text": [
            "LETTERS 10\n",
            "DIGITS 3\n"
          ]
        }
      ]
    },
    {
      "cell_type": "code",
      "source": [
        "import re\n",
        "\n",
        "def check_password(password):\n",
        "  if len(password) < 6 or len(password) > 12:\n",
        "    return False\n",
        "  if not re.search(r'[a-z]', password):\n",
        "    return False\n",
        "  if not re.search(r'[0-9]', password):\n",
        "    return False\n",
        "  if not re.search(r'[A-Z]', password):\n",
        "    return False\n",
        "  if not re.search(r'[$#@]', password):\n",
        "    return False\n",
        "  return True\n",
        "\n",
        "passwords = ['ABd1234@1', 'a F1#', '2w3E*', '2We3345']\n",
        "valid_passwords = []\n",
        "for password in passwords:\n",
        "  if check_password(password):\n",
        "    valid_passwords.append(password)\n",
        "\n",
        "print(', '.join(valid_passwords))\n"
      ],
      "metadata": {
        "colab": {
          "base_uri": "https://localhost:8080/"
        },
        "id": "h-K7w47tUKCi",
        "outputId": "8ec8e1f5-0a1d-4991-bc66-76d3296d671d"
      },
      "execution_count": 12,
      "outputs": [
        {
          "output_type": "stream",
          "name": "stdout",
          "text": [
            "ABd1234@1\n"
          ]
        }
      ]
    },
    {
      "cell_type": "code",
      "source": [],
      "metadata": {
        "id": "sayA_CjSUU4D"
      },
      "execution_count": null,
      "outputs": []
    }
  ]
}