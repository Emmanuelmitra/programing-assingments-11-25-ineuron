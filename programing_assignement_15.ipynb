{
  "nbformat": 4,
  "nbformat_minor": 0,
  "metadata": {
    "colab": {
      "provenance": []
    },
    "kernelspec": {
      "name": "python3",
      "display_name": "Python 3"
    },
    "language_info": {
      "name": "python"
    }
  },
  "cells": [
    {
      "cell_type": "code",
      "execution_count": 6,
      "metadata": {
        "colab": {
          "base_uri": "https://localhost:8080/"
        },
        "id": "bjHMBZhSWWY0",
        "outputId": "06d3c86a-7e99-416e-bb33-0e8a10b65606"
      },
      "outputs": [
        {
          "output_type": "stream",
          "name": "stdout",
          "text": [
            "Enter a number: 5\n",
            "0\n"
          ]
        }
      ],
      "source": [
        "# 1\n",
        "def divisible_by_5_and_7(n):\n",
        "    for i in range(n+1):\n",
        "        if i % 5 == 0 and i % 7 == 0:\n",
        "            yield i\n",
        "\n",
        "n = int(input(\"Enter a number: \"))\n",
        "result = \", \".join(str(i) for i in divisible_by_5_and_7(n))\n",
        "print(result)"
      ]
    },
    {
      "cell_type": "code",
      "source": [
        "# 2\n",
        "def even_numbers(n):\n",
        "    for i in range(n+1):\n",
        "        if i % 2 == 0:\n",
        "            yield i\n",
        "\n",
        "n = int(input(\"Enter a number: \"))\n",
        "result = \", \".join(str(i) for i in even_numbers(n))\n",
        "print(result)\n"
      ],
      "metadata": {
        "colab": {
          "base_uri": "https://localhost:8080/"
        },
        "id": "Tw-M8UrJWcnT",
        "outputId": "ed56a938-cd21-4aa4-cb4f-aaec25a938df"
      },
      "execution_count": 5,
      "outputs": [
        {
          "output_type": "stream",
          "name": "stdout",
          "text": [
            "Enter a number: 4\n",
            "0, 2, 4\n"
          ]
        }
      ]
    },
    {
      "cell_type": "code",
      "source": [
        "\n",
        "# 3\n",
        "def fibonacci_sequence(n):\n",
        "    if n == 0:\n",
        "        return 0\n",
        "    elif n == 1:\n",
        "        return 1\n",
        "    else:\n",
        "        return fibonacci_sequence(n-1) + fibonacci_sequence(n-2)\n",
        "\n",
        "n = int(input(\"Enter a number: \"))\n",
        "result = \", \".join(str(fibonacci_sequence(i)) for i in range(n+1))\n",
        "print(result)\n"
      ],
      "metadata": {
        "colab": {
          "base_uri": "https://localhost:8080/"
        },
        "id": "3RYJSEPTWezP",
        "outputId": "c28b0f4d-e43b-4c52-82fa-9890f0e67a60"
      },
      "execution_count": 2,
      "outputs": [
        {
          "output_type": "stream",
          "name": "stdout",
          "text": [
            "Enter a number: 3\n",
            "0, 1, 1, 2\n"
          ]
        }
      ]
    },
    {
      "cell_type": "code",
      "source": [
        "# 4\n",
        "\n",
        "email = input(\"Enter an email address: \")\n",
        "username = email[:email.index('@')]\n",
        "print(username)\n"
      ],
      "metadata": {
        "colab": {
          "base_uri": "https://localhost:8080/"
        },
        "id": "T8JVzCQIWioE",
        "outputId": "3a2cdd77-8c7b-4df1-a006-4f9bc7a3e309"
      },
      "execution_count": 3,
      "outputs": [
        {
          "output_type": "stream",
          "name": "stdout",
          "text": [
            "Enter an email address: emmanuel.hkit@gmail.com\n",
            "emmanuel.hkit\n"
          ]
        }
      ]
    },
    {
      "cell_type": "code",
      "source": [
        "class Shape:\n",
        "    def area(self):\n",
        "        return 0\n",
        "\n",
        "class Square(Shape):\n",
        "    def __init__(self, length):\n",
        "        self.length = length\n",
        "\n",
        "    def area(self):\n",
        "        return self.length * self.length\n",
        "\n",
        "square = Square(5)\n",
        "print(square.area())\n"
      ],
      "metadata": {
        "colab": {
          "base_uri": "https://localhost:8080/"
        },
        "id": "H9TwS989Wpql",
        "outputId": "33c8527e-2e2b-4dfa-92b2-cb906e88cbb0"
      },
      "execution_count": 4,
      "outputs": [
        {
          "output_type": "stream",
          "name": "stdout",
          "text": [
            "25\n"
          ]
        }
      ]
    },
    {
      "cell_type": "code",
      "source": [],
      "metadata": {
        "id": "FcB5VenWWukd"
      },
      "execution_count": null,
      "outputs": []
    }
  ]
}