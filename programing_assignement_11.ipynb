{
  "nbformat": 4,
  "nbformat_minor": 0,
  "metadata": {
    "colab": {
      "provenance": []
    },
    "kernelspec": {
      "name": "python3",
      "display_name": "Python 3"
    },
    "language_info": {
      "name": "python"
    }
  },
  "cells": [
    {
      "cell_type": "code",
      "execution_count": 1,
      "metadata": {
        "colab": {
          "base_uri": "https://localhost:8080/"
        },
        "id": "TvntwgwGLjO3",
        "outputId": "ccc4e93f-43f3-4bfb-824d-488b358e69a0"
      },
      "outputs": [
        {
          "output_type": "stream",
          "name": "stdout",
          "text": [
            "['quick', 'brown', 'jumps']\n"
          ]
        }
      ],
      "source": [
        "# To find words that are greater than a given length k, you can split the string into a list of words using the split() method, and then use a list comprehension to filter the list and return only the words that have a length greater than k.\n",
        "\n",
        "def find_words_greater_than_k(s, k):\n",
        "    words = s.split()\n",
        "    return [word for word in words if len(word) > k]\n",
        "\n",
        "# test the function\n",
        "s = \"The quick brown fox jumps over the lazy dog\"\n",
        "print(find_words_greater_than_k(s, 4))\n",
        "# Output: ['quick', 'brown', 'jumps', 'over', 'lazy']"
      ]
    },
    {
      "cell_type": "code",
      "source": [
        "# To remove the i-th character from a string, you can use string slicing to extract all the characters before and after the i-th character, and then concatenate them using the + operator.\n",
        "\n",
        "def remove_ith_char(s, i):\n",
        "    return s[:i] + s[i+1:]\n",
        "\n",
        "# test the function\n",
        "s = \"Hello, world!\"\n",
        "print(remove_ith_char(s, 4))\n",
        "# Output: \"Hell world!\""
      ],
      "metadata": {
        "colab": {
          "base_uri": "https://localhost:8080/"
        },
        "id": "p2BwHldyLww2",
        "outputId": "34a5fd2a-0105-4a6d-bdd6-8dd978bdf6a5"
      },
      "execution_count": 2,
      "outputs": [
        {
          "output_type": "stream",
          "name": "stdout",
          "text": [
            "Hell, world!\n"
          ]
        }
      ]
    },
    {
      "cell_type": "code",
      "source": [
        "# To split and join a string, you can use the split() and join() methods, respectively. The split() method returns a list of substrings, and the join() method concatenates the elements of an iterable (such as a list) into a single string, using a separator string.\n",
        "\n",
        "def split_and_join(s, sep):\n",
        "    # split the string into a list\n",
        "    words = s.split(sep)\n",
        "\n",
        "    # join the list into a string, using '-' as the separator\n",
        "    return '-'.join(words)\n",
        "\n",
        "# test the function\n",
        "s = \"Hello, world!\"\n",
        "print(split_and_join(s, ' '))\n",
        "# Output: \"Hello,-world!\""
      ],
      "metadata": {
        "colab": {
          "base_uri": "https://localhost:8080/"
        },
        "id": "9SjahUVxL4nY",
        "outputId": "317cc330-025a-430b-e1a2-875f4f9382c6"
      },
      "execution_count": 3,
      "outputs": [
        {
          "output_type": "stream",
          "name": "stdout",
          "text": [
            "Hello,-world!\n"
          ]
        }
      ]
    },
    {
      "cell_type": "code",
      "source": [
        "# To check if a string is a binary string (i.e., contains only 0s and 1s), you can use a regular expression to check if the string matches the pattern ^[01]+$.\n",
        "import re\n",
        "\n",
        "def is_binary_string(s):\n",
        "    return bool(re.match(r'^[01]+$', s))\n",
        "\n",
        "# test the function\n",
        "print(is_binary_string(\"10101\"))\n",
        "# Output: True\n",
        "print(is_binary_string(\"101010101010101010101010101010101010101010101010101\"))\n",
        "# Output: True\n",
        "print(is_binary_string(\"101010101010101010101010101010101010101010101010101a\"))\n",
        "# Output: False\n",
        "print(is_binary_string(\"\"))\n",
        "# Output: False"
      ],
      "metadata": {
        "colab": {
          "base_uri": "https://localhost:8080/"
        },
        "id": "4kWN_UKaL_Oa",
        "outputId": "999dbe29-6693-416d-c650-385c88d1eb00"
      },
      "execution_count": 4,
      "outputs": [
        {
          "output_type": "stream",
          "name": "stdout",
          "text": [
            "True\n",
            "True\n",
            "False\n",
            "False\n"
          ]
        }
      ]
    },
    {
      "cell_type": "code",
      "source": [
        "# To find uncommon words from two strings, you can split each string into a list of words, and then use the set() function to find the words that are in one set but not the other.\n",
        "\n",
        "def find_uncommon_words(s1, s2):\n",
        "    # split the strings into lists of words\n",
        "    words"
      ],
      "metadata": {
        "id": "oD7YGTHGMGWW"
      },
      "execution_count": 5,
      "outputs": []
    },
    {
      "cell_type": "code",
      "source": [],
      "metadata": {
        "id": "VXpre3YJMLYN"
      },
      "execution_count": null,
      "outputs": []
    }
  ]
}