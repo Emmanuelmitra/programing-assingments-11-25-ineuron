{
  "nbformat": 4,
  "nbformat_minor": 0,
  "metadata": {
    "colab": {
      "provenance": []
    },
    "kernelspec": {
      "name": "python3",
      "display_name": "Python 3"
    },
    "language_info": {
      "name": "python"
    }
  },
  "cells": [
    {
      "cell_type": "code",
      "execution_count": 1,
      "metadata": {
        "colab": {
          "base_uri": "https://localhost:8080/"
        },
        "id": "wH_uMynNM0vy",
        "outputId": "d7614e00-2b4b-4ab3-b875-aae20f5698be"
      },
      "outputs": [
        {
          "output_type": "stream",
          "name": "stdout",
          "text": [
            "{1, 2, 3}\n"
          ]
        }
      ],
      "source": [
        "# To extract unique values from a dictionary in Python, you can use a combination of the values() method and the set() function. Here's an example:\n",
        "\n",
        "def extract_unique_values(d):\n",
        "  unique_values = set(d.values())\n",
        "  return unique_values\n",
        "\n",
        "# Test the function\n",
        "my_dict = {'a': 1, 'b': 2, 'c': 3, 'd': 2}\n",
        "print(extract_unique_values(my_dict))  # Output: {1, 2, 3}"
      ]
    },
    {
      "cell_type": "code",
      "source": [
        "# To find the sum of all items in a dictionary, you can use a for loop to iterate over the dictionary and add up the values. Here's an example:\n",
        "\n",
        "def sum_dict_items(d):\n",
        "  sum = 0\n",
        "  for value in d.values():\n",
        "    sum += value\n",
        "  return sum\n",
        "\n",
        "# Test the function\n",
        "my_dict = {'a': 1, 'b': 2, 'c': 3, 'd': 4}\n",
        "print(sum_dict_items(my_dict))  # Output: 10"
      ],
      "metadata": {
        "colab": {
          "base_uri": "https://localhost:8080/"
        },
        "id": "WLPoLc1BM7Fn",
        "outputId": "2a0dae75-5be6-4bae-b7ae-c3484d9649a5"
      },
      "execution_count": 2,
      "outputs": [
        {
          "output_type": "stream",
          "name": "stdout",
          "text": [
            "10\n"
          ]
        }
      ]
    },
    {
      "cell_type": "code",
      "source": [
        "# To merge two dictionaries in Python, you can use the update() method to add the key-value pairs from one dictionary to another. Here's an example:\n",
        "\n",
        "def merge_dicts(dict1, dict2):\n",
        "  dict1.update(dict2)\n",
        "  return dict1\n",
        "\n",
        "# Test the function\n",
        "dict1 = {'a': 1, 'b': 2}\n",
        "dict2 = {'c': 3, 'd': 4}\n",
        "print(merge_dicts(dict1, dict2))  # Output: {'a': 1, 'b': 2, 'c': 3, 'd': 4}"
      ],
      "metadata": {
        "colab": {
          "base_uri": "https://localhost:8080/"
        },
        "id": "O60m6KNnNDhv",
        "outputId": "2e2dfb4f-339a-476e-ad3c-1983155ca4ee"
      },
      "execution_count": 3,
      "outputs": [
        {
          "output_type": "stream",
          "name": "stdout",
          "text": [
            "{'a': 1, 'b': 2, 'c': 3, 'd': 4}\n"
          ]
        }
      ]
    },
    {
      "cell_type": "code",
      "source": [
        "# To convert a key-value list to a flat dictionary in Python, you can use a for loop to iterate over the list and add the key-value pairs to a dictionary. Here's an example:\n",
        "def convert_list_to_dict(lst):\n",
        "  result = {}\n",
        "  for key, value in lst:\n",
        "    result[key] = value\n",
        "  return result\n",
        "\n",
        "# Test the function\n",
        "my_list = [('a', 1), ('b', 2), ('c', 3)]\n",
        "print(convert_list_to_dict(my_list))  # Output: {'a': 1, 'b': 2, 'c': 3}"
      ],
      "metadata": {
        "colab": {
          "base_uri": "https://localhost:8080/"
        },
        "id": "Z0CZ-ApeNIzo",
        "outputId": "29109c98-b881-4694-b98f-30485e710de8"
      },
      "execution_count": 4,
      "outputs": [
        {
          "output_type": "stream",
          "name": "stdout",
          "text": [
            "{'a': 1, 'b': 2, 'c': 3}\n"
          ]
        }
      ]
    },
    {
      "cell_type": "code",
      "source": [
        "# To insert an item at the beginning of an OrderedDict in Python, you can use the move_to_end() method and set the last parameter to False. Here's an example:\n",
        "from collections import OrderedDict\n",
        "\n",
        "def insert_at_beginning(d, key, value):\n",
        "  d[key] = value\n",
        "  d.move_to_end(key, last=False)\n",
        "\n",
        "# Test the function\n",
        "my_dict = OrderedDict([('a', 1), ('b', 2), ('c', 3)])\n",
        "insert_at_beginning(my_dict, 'd', 4)\n",
        "print(my_dict)  # Output: OrderedDict([('d', 4), ('a', 1), ('b', 2), ('c', 3)])"
      ],
      "metadata": {
        "colab": {
          "base_uri": "https://localhost:8080/"
        },
        "id": "NCpHjBRDNMdF",
        "outputId": "5e13bf32-ca99-4e2b-e2b7-8d4389beb38b"
      },
      "execution_count": 5,
      "outputs": [
        {
          "output_type": "stream",
          "name": "stdout",
          "text": [
            "OrderedDict([('d', 4), ('a', 1), ('b', 2), ('c', 3)])\n"
          ]
        }
      ]
    },
    {
      "cell_type": "code",
      "source": [],
      "metadata": {
        "id": "LkhyFdHRNRXq"
      },
      "execution_count": null,
      "outputs": []
    }
  ]
}