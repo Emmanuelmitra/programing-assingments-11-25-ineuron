{
  "nbformat": 4,
  "nbformat_minor": 0,
  "metadata": {
    "colab": {
      "provenance": []
    },
    "kernelspec": {
      "name": "python3",
      "display_name": "Python 3"
    },
    "language_info": {
      "name": "python"
    }
  },
  "cells": [
    {
      "cell_type": "code",
      "execution_count": 1,
      "metadata": {
        "id": "JdTPu3wAamvo"
      },
      "outputs": [],
      "source": [
        "# 1\n",
        "def filter_list(lst):\n",
        "  return [x for x in lst if isinstance(x, int)]\n"
      ]
    },
    {
      "cell_type": "code",
      "source": [
        "# 2\n",
        "def add_indexes(lst):\n",
        "  return [x + i for i, x in enumerate(lst)]\n"
      ],
      "metadata": {
        "id": "ulCCDEKHariz"
      },
      "execution_count": 2,
      "outputs": []
    },
    {
      "cell_type": "code",
      "source": [
        "# 3\n",
        "import math\n",
        "\n",
        "def cone_volume(h, r):\n",
        "  return round(math.pi * r**2 * h / 3, 2)\n"
      ],
      "metadata": {
        "id": "0Ex8JBZ3a5mI"
      },
      "execution_count": 3,
      "outputs": []
    },
    {
      "cell_type": "code",
      "source": [
        "# 4\n",
        "def triangle(n):\n",
        "  return n * (n + 1) // 2\n"
      ],
      "metadata": {
        "id": "Le7C6HFJa6iW"
      },
      "execution_count": 4,
      "outputs": []
    },
    {
      "cell_type": "code",
      "source": [
        "# 5\n",
        "def missing_num(lst):\n",
        "  return sum(range(1, 11)) - sum(lst)\n"
      ],
      "metadata": {
        "id": "AcTXcVdBa8la"
      },
      "execution_count": 5,
      "outputs": []
    },
    {
      "cell_type": "markdown",
      "source": [
        "# Now call all the functions and test them with some inputs "
      ],
      "metadata": {
        "id": "T-gAdRN_bNSk"
      }
    },
    {
      "cell_type": "code",
      "source": [
        "print(filter_list([1, 2, 3, \"a\", \"b\", 4]))  # should print [1, 2, 3, 4]\n",
        "print(filter_list([\"A\", 0, \"Edabit\", 1729, \"Python\", \"1729\"]))  # should print [0, 1729]\n",
        "print(filter_list([\"Nothing\", \"here\"]))  # should print []\n",
        "\n",
        "\n"
      ],
      "metadata": {
        "colab": {
          "base_uri": "https://localhost:8080/"
        },
        "id": "QUfJPWRba-dN",
        "outputId": "25bb42ad-f501-4371-a4bb-e00ee0cc6c7e"
      },
      "execution_count": 7,
      "outputs": [
        {
          "output_type": "stream",
          "name": "stdout",
          "text": [
            "[1, 2, 3, 4]\n",
            "[0, 1729]\n",
            "[]\n"
          ]
        }
      ]
    },
    {
      "cell_type": "code",
      "source": [
        "print(add_indexes([0, 0, 0, 0, 0]))  # should print [0, 1, 2, 3, 4]\n",
        "print(add_indexes([1, 2, 3, 4, 5]))  # should print [1, 3, 5, 7, 9]\n",
        "print(add_indexes([5, 4, 3, 2, 1]))  # should print [5, 5, 5, 5, 5]\n",
        "\n"
      ],
      "metadata": {
        "colab": {
          "base_uri": "https://localhost:8080/"
        },
        "id": "0vUJJwugbCHA",
        "outputId": "18d4b7ca-45c8-413c-b59a-47662b4fb711"
      },
      "execution_count": 8,
      "outputs": [
        {
          "output_type": "stream",
          "name": "stdout",
          "text": [
            "[0, 1, 2, 3, 4]\n",
            "[1, 3, 5, 7, 9]\n",
            "[5, 5, 5, 5, 5]\n"
          ]
        }
      ]
    },
    {
      "cell_type": "code",
      "source": [
        "print(cone_volume(3, 2))  # should print 12.57\n",
        "print(cone_volume(15, 6))  # should print 565.49\n",
        "print(cone_volume(18, 0))  # should print 0\n",
        "\n"
      ],
      "metadata": {
        "colab": {
          "base_uri": "https://localhost:8080/"
        },
        "id": "6emOAKd4bF8z",
        "outputId": "2ebd7699-ca92-44c9-b360-f9a2a89bcbe3"
      },
      "execution_count": 9,
      "outputs": [
        {
          "output_type": "stream",
          "name": "stdout",
          "text": [
            "12.57\n",
            "565.49\n",
            "0.0\n"
          ]
        }
      ]
    },
    {
      "cell_type": "code",
      "source": [
        "print(triangle(1))  # should print 1\n",
        "print(triangle(6))  # should print 21\n",
        "print(triangle(215))  # should print 23220\n"
      ],
      "metadata": {
        "colab": {
          "base_uri": "https://localhost:8080/"
        },
        "id": "8WEKPDNibHYK",
        "outputId": "9d153151-79d4-4a8f-c1f3-c099f8808881"
      },
      "execution_count": 10,
      "outputs": [
        {
          "output_type": "stream",
          "name": "stdout",
          "text": [
            "1\n",
            "21\n",
            "23220\n"
          ]
        }
      ]
    },
    {
      "cell_type": "code",
      "source": [
        "\n",
        "print(missing_num([1, 2, 3, 4, 6, 7, 8, 9, 10]))  # should print 5\n",
        "print(missing_num([7, 2, 3, 6, 5, 9, 1, 4, 8]))  # should print 10\n",
        "print(missing_num([10, 5, 1, 2, 4, 6, 8, 3, 9]))  # should print 7"
      ],
      "metadata": {
        "colab": {
          "base_uri": "https://localhost:8080/"
        },
        "id": "gl2Y6YsFbIkz",
        "outputId": "af1d15f8-9f93-434a-c2bc-a71c394aa2ad"
      },
      "execution_count": 11,
      "outputs": [
        {
          "output_type": "stream",
          "name": "stdout",
          "text": [
            "5\n",
            "10\n",
            "7\n"
          ]
        }
      ]
    },
    {
      "cell_type": "code",
      "source": [],
      "metadata": {
        "id": "ZgVejm_pbJGf"
      },
      "execution_count": null,
      "outputs": []
    }
  ]
}