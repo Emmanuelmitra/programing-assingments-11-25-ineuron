{
  "nbformat": 4,
  "nbformat_minor": 0,
  "metadata": {
    "colab": {
      "provenance": []
    },
    "kernelspec": {
      "name": "python3",
      "display_name": "Python 3"
    },
    "language_info": {
      "name": "python"
    }
  },
  "cells": [
    {
      "cell_type": "code",
      "execution_count": 1,
      "metadata": {
        "colab": {
          "base_uri": "https://localhost:8080/"
        },
        "id": "V24nrO9laDdk",
        "outputId": "23b36791-baa2-4570-a4c2-a41a9b68700b"
      },
      "outputs": [
        {
          "output_type": "stream",
          "name": "stdout",
          "text": [
            "SSttrriinngg\n",
            "HHeelllloo  WWoorrlldd!!\n",
            "11223344!!__  \n"
          ]
        }
      ],
      "source": [
        "# 1\n",
        "def double_char(string):\n",
        "    result = \"\"\n",
        "    for char in string:\n",
        "        result += char * 2\n",
        "    return result\n",
        "\n",
        "print(double_char(\"String\"))\n",
        "print(double_char(\"Hello World!\"))\n",
        "print(double_char(\"1234!_ \"))\n"
      ]
    },
    {
      "cell_type": "code",
      "source": [
        "# 2\n",
        "def reverse(val):\n",
        "    if type(val) == bool:\n",
        "        return not val\n",
        "    else:\n",
        "        return \"boolean expected\"\n",
        "\n",
        "print(reverse(True))\n",
        "print(reverse(False))\n",
        "print(reverse(0))\n",
        "print(reverse(None))\n"
      ],
      "metadata": {
        "colab": {
          "base_uri": "https://localhost:8080/"
        },
        "id": "MYhZcq2saIf8",
        "outputId": "0f796f17-04e0-46ce-e83e-c7f32d5f6ae3"
      },
      "execution_count": 2,
      "outputs": [
        {
          "output_type": "stream",
          "name": "stdout",
          "text": [
            "False\n",
            "True\n",
            "boolean expected\n",
            "boolean expected\n"
          ]
        }
      ]
    },
    {
      "cell_type": "code",
      "source": [
        "# 3\n",
        "def num_layers(n):\n",
        "    thickness = 0.5e-3 # 0.5mm in meters\n",
        "    return \"{:.3f}m\".format(thickness * (2 ** n))\n",
        "\n",
        "print(num_layers(1))\n",
        "print(num_layers(4))\n",
        "print(num_layers(21))\n"
      ],
      "metadata": {
        "colab": {
          "base_uri": "https://localhost:8080/"
        },
        "id": "vwXH3_pjaKfV",
        "outputId": "cf20b4ba-9e07-47ce-e83f-c167d7649048"
      },
      "execution_count": 3,
      "outputs": [
        {
          "output_type": "stream",
          "name": "stdout",
          "text": [
            "0.001m\n",
            "0.008m\n",
            "1048.576m\n"
          ]
        }
      ]
    },
    {
      "cell_type": "code",
      "source": [
        "# 4\n",
        "def index_of_caps(string):\n",
        "    return [i for i in range(len(string)) if string[i].isupper()]\n",
        "\n",
        "print(index_of_caps(\"eDaBiT\"))\n",
        "print(index_of_caps(\"eQuINoX\"))\n",
        "print(index_of_caps(\"determine\"))\n",
        "print(index_of_caps(\"STRIKE\"))\n",
        "print(index_of_caps(\"sUn\"))\n"
      ],
      "metadata": {
        "colab": {
          "base_uri": "https://localhost:8080/"
        },
        "id": "9YaLR7DjaMW3",
        "outputId": "2db418aa-f228-414c-bc32-6fe59736cc05"
      },
      "execution_count": 4,
      "outputs": [
        {
          "output_type": "stream",
          "name": "stdout",
          "text": [
            "[1, 3, 5]\n",
            "[1, 3, 4, 6]\n",
            "[]\n",
            "[0, 1, 2, 3, 4, 5]\n",
            "[1]\n"
          ]
        }
      ]
    },
    {
      "cell_type": "code",
      "source": [
        "# 5\n",
        "def find_even_nums(num):\n",
        "    return [i for i in range(2, num+1, 2)]\n",
        "\n",
        "print(find_even_nums(8))\n",
        "print(find_even_nums(4))\n",
        "print(find_even_nums(2))\n"
      ],
      "metadata": {
        "colab": {
          "base_uri": "https://localhost:8080/"
        },
        "id": "hkSY0uAkaN_o",
        "outputId": "55961d48-672f-4d2c-f100-80e4d0430d26"
      },
      "execution_count": 5,
      "outputs": [
        {
          "output_type": "stream",
          "name": "stdout",
          "text": [
            "[2, 4, 6, 8]\n",
            "[2, 4]\n",
            "[2]\n"
          ]
        }
      ]
    },
    {
      "cell_type": "code",
      "source": [],
      "metadata": {
        "id": "A2Xxx-fUaRFr"
      },
      "execution_count": null,
      "outputs": []
    }
  ]
}